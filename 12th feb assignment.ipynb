{
 "cells": [
  {
   "cell_type": "code",
   "execution_count": 1,
   "id": "608eaa6c-ae36-430d-a4fb-ab2e3582c016",
   "metadata": {},
   "outputs": [
    {
     "data": {
      "text/plain": [
       "\"\\n---> An exception is an event, which occurs during the execution of a program that disrupts the normal flow of the program's instructions.\\n---> Errors cannot be handled, while Python exceptions can be handled at the run time. An error can be a syntax (parsing) error, while there can be many types of exceptions that could occur during the execution and are not unconditionally inoperable.\\n\""
      ]
     },
     "execution_count": 1,
     "metadata": {},
     "output_type": "execute_result"
    }
   ],
   "source": [
    "#1) What is exception in python? Write the difference etween Exceptions and syntax errors.\n",
    "'''\n",
    "---> An exception is an event, which occurs during the execution of a program that disrupts the normal flow of the program's instructions.\n",
    "---> Errors cannot be handled, while Python exceptions can be handled at the run time. An error can be a syntax (parsing) error, while there can be many types of exceptions that could occur during the execution and are not unconditionally inoperable.\n",
    "'''"
   ]
  },
  {
   "cell_type": "code",
   "execution_count": 6,
   "id": "37e01e52-8119-4616-81b3-935047a96c11",
   "metadata": {},
   "outputs": [
    {
     "ename": "ZeroDivisionError",
     "evalue": "division by zero",
     "output_type": "error",
     "traceback": [
      "\u001b[0;31m---------------------------------------------------------------------------\u001b[0m",
      "\u001b[0;31mZeroDivisionError\u001b[0m                         Traceback (most recent call last)",
      "Cell \u001b[0;32mIn [6], line 7\u001b[0m\n\u001b[1;32m      1\u001b[0m \u001b[38;5;66;03m#2) What happens when exception is not handled? Explain with an example.\u001b[39;00m\n\u001b[1;32m      2\u001b[0m \u001b[38;5;124;03m'''\u001b[39;00m\n\u001b[1;32m      3\u001b[0m \u001b[38;5;124;03m---> If an exception is not caught, the runtime system will abort the program and an exception message will print to the console.\u001b[39;00m\n\u001b[1;32m      4\u001b[0m \u001b[38;5;124;03m---> Here i have give you a example of number divided by zero. If exception is not handled then it is giving error.\u001b[39;00m\n\u001b[1;32m      5\u001b[0m \u001b[38;5;124;03m'''\u001b[39;00m\n\u001b[0;32m----> 7\u001b[0m a\u001b[38;5;241m=\u001b[39m\u001b[38;5;241;43m5\u001b[39;49m\u001b[38;5;241;43m/\u001b[39;49m\u001b[38;5;241;43m0\u001b[39;49m\n",
      "\u001b[0;31mZeroDivisionError\u001b[0m: division by zero"
     ]
    }
   ],
   "source": [
    "#2) What happens when exception is not handled? Explain with an example.\n",
    "'''\n",
    "---> If an exception is not caught, the runtime system will abort the program and an exception message will print to the console.\n",
    "---> Here i have give you a example of number divided by zero. If exception is not handled then it is giving error.\n",
    "'''\n",
    "  \n",
    "a=5/0\n"
   ]
  },
  {
   "cell_type": "code",
   "execution_count": null,
   "id": "35dc57a1-f566-440f-8720-6dc18d6f6e40",
   "metadata": {},
   "outputs": [],
   "source": [
    "#3) Which statement is used to catch the exception in python?\n",
    "'''\n",
    "---> except is used to catch the exception in python.\n",
    "'''\n",
    "try:\n",
    "    a=5/0\n",
    "except:\n",
    "    print('division by zero exception')"
   ]
  },
  {
   "cell_type": "code",
   "execution_count": null,
   "id": "07405e2d-f570-40ef-b50f-f98866f84aaa",
   "metadata": {},
   "outputs": [
    {
     "data": {
      "text/plain": [
       "'\\na) try and else\\n---> The code enters the else block only if the try clause does not raise an exception. \\n\\nb) finally\\n---> finally block will execute inrespective of exception is caught or not.\\n\\nc) raise\\n---> raise is used to throw exception if condition occurs.\\n'"
      ]
     },
     "execution_count": 3,
     "metadata": {},
     "output_type": "execute_result"
    }
   ],
   "source": [
    "#4) Explain with an exmple\n",
    "'''\n",
    "a) try and else\n",
    "---> The code enters the else block only if the try clause does not raise an exception. \n",
    "\n",
    "b) finally\n",
    "---> finally block will execute inrespective of exception is caught or not.\n",
    "\n",
    "c) raise\n",
    "---> raise is used to throw exception if condition occurs.\n",
    "'''"
   ]
  },
  {
   "cell_type": "code",
   "execution_count": 7,
   "id": "d5cec934-882c-49ef-807a-14f13e2c1101",
   "metadata": {},
   "outputs": [
    {
     "name": "stdin",
     "output_type": "stream",
     "text": [
      "Enter your age :  201\n"
     ]
    },
    {
     "name": "stdout",
     "output_type": "stream",
     "text": [
      "Entered age is very very high\n"
     ]
    }
   ],
   "source": [
    "#5) custom exception\n",
    "'''\n",
    "---> In Python, we can define custom exceptions by creating a new class that is derived from the built-in Exception class.\n",
    "'''\n",
    "class ValidateAge(Exception):\n",
    "    \n",
    "    def __init__(self,msg):\n",
    "        self.msg=msg\n",
    "        \n",
    "def validateAge(age):\n",
    "    if age<0:\n",
    "        raise ValidateAge('Entered age is negative')\n",
    "    elif age>200:\n",
    "        raise ValidateAge('Entered age is very very high')\n",
    "    else:\n",
    "        print('age is valid')\n",
    "        \n",
    "try:\n",
    "    age = int(input(\"Enter your age : \"))\n",
    "    validateAge(age)\n",
    "except ValidateAge as e:\n",
    "    print(e)"
   ]
  },
  {
   "cell_type": "code",
   "execution_count": null,
   "id": "120605b9-0a7c-48ad-8a1b-6b015f376fc6",
   "metadata": {},
   "outputs": [],
   "source": [
    "#6) create a custom exception class.\n",
    "\n",
    "class Marks(Exception):\n",
    "    def __init(self,msg):\n",
    "        self.msg=msg\n",
    "def checkMarks(mark):\n",
    "    if mark<0 or mark>100:\n",
    "        raise Marks('Exception : Entervalid marks.')\n",
    "    else:\n",
    "        print('valid marks')\n",
    "        \n",
    "try:\n",
    "    "
   ]
  }
 ],
 "metadata": {
  "kernelspec": {
   "display_name": "Python 3 (ipykernel)",
   "language": "python",
   "name": "python3"
  },
  "language_info": {
   "codemirror_mode": {
    "name": "ipython",
    "version": 3
   },
   "file_extension": ".py",
   "mimetype": "text/x-python",
   "name": "python",
   "nbconvert_exporter": "python",
   "pygments_lexer": "ipython3",
   "version": "3.10.6"
  }
 },
 "nbformat": 4,
 "nbformat_minor": 5
}
